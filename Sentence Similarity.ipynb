{
 "cells": [
  {
   "cell_type": "code",
   "execution_count": 1,
   "id": "9ea9bd17",
   "metadata": {},
   "outputs": [],
   "source": [
    "import json"
   ]
  },
  {
   "cell_type": "code",
   "execution_count": 2,
   "id": "29c2d12e",
   "metadata": {},
   "outputs": [],
   "source": [
    "with open('/mnt/infonas/data/harshiitb/MTP/MTP/FEVER/FEVEROUS-main/data/train.jsonl', 'r') as json_file:\n",
    "    json_list = list(json_file)"
   ]
  },
  {
   "cell_type": "code",
   "execution_count": 6,
   "id": "16e681cc",
   "metadata": {},
   "outputs": [],
   "source": [
    "claims = []\n",
    "for ele in json_list:\n",
    "    claims.append(json.loads(ele))"
   ]
  },
  {
   "cell_type": "code",
   "execution_count": 9,
   "id": "07cab9e0",
   "metadata": {},
   "outputs": [
    {
     "data": {
      "text/plain": [
       "'Michael Folivi competed with ten teams from 2016 to 2021, appearing in 54 games and making seven goals in total.'"
      ]
     },
     "execution_count": 9,
     "metadata": {},
     "output_type": "execute_result"
    }
   ],
   "source": [
    "claims[1]['claim']"
   ]
  },
  {
   "cell_type": "code",
   "execution_count": 10,
   "id": "0bf9e4bb",
   "metadata": {},
   "outputs": [
    {
     "data": {
      "text/plain": [
       "{'evidence': [{'content': ['Michael Folivi_cell_1_2_0',\n",
       "    'Michael Folivi_cell_1_7_0',\n",
       "    'Michael Folivi_cell_1_8_0',\n",
       "    'Michael Folivi_cell_1_9_0',\n",
       "    'Michael Folivi_cell_1_12_0'],\n",
       "   'context': {'Michael Folivi_cell_1_2_0': ['Michael Folivi_title',\n",
       "     'Michael Folivi_section_4',\n",
       "     'Michael Folivi_header_cell_1_0_0'],\n",
       "    'Michael Folivi_cell_1_7_0': ['Michael Folivi_title',\n",
       "     'Michael Folivi_section_4',\n",
       "     'Michael Folivi_header_cell_1_0_0'],\n",
       "    'Michael Folivi_cell_1_8_0': ['Michael Folivi_title',\n",
       "     'Michael Folivi_section_4',\n",
       "     'Michael Folivi_header_cell_1_0_0'],\n",
       "    'Michael Folivi_cell_1_9_0': ['Michael Folivi_title',\n",
       "     'Michael Folivi_section_4',\n",
       "     'Michael Folivi_header_cell_1_0_0'],\n",
       "    'Michael Folivi_cell_1_12_0': ['Michael Folivi_title',\n",
       "     'Michael Folivi_section_4',\n",
       "     'Michael Folivi_header_cell_1_0_0']}},\n",
       "  {'content': ['Michael Folivi_cell_0_13_1',\n",
       "    'Michael Folivi_cell_0_14_1',\n",
       "    'Michael Folivi_cell_0_15_1',\n",
       "    'Michael Folivi_cell_0_16_1',\n",
       "    'Michael Folivi_cell_0_18_1'],\n",
       "   'context': {'Michael Folivi_cell_0_13_1': ['Michael Folivi_title',\n",
       "     'Michael Folivi_header_cell_0_13_0',\n",
       "     'Michael Folivi_header_cell_0_11_0'],\n",
       "    'Michael Folivi_cell_0_14_1': ['Michael Folivi_title',\n",
       "     'Michael Folivi_header_cell_0_14_0',\n",
       "     'Michael Folivi_header_cell_0_11_0'],\n",
       "    'Michael Folivi_cell_0_15_1': ['Michael Folivi_title',\n",
       "     'Michael Folivi_header_cell_0_15_0',\n",
       "     'Michael Folivi_header_cell_0_11_0'],\n",
       "    'Michael Folivi_cell_0_16_1': ['Michael Folivi_title',\n",
       "     'Michael Folivi_header_cell_0_16_0',\n",
       "     'Michael Folivi_header_cell_0_11_0'],\n",
       "    'Michael Folivi_cell_0_18_1': ['Michael Folivi_title',\n",
       "     'Michael Folivi_header_cell_0_18_0',\n",
       "     'Michael Folivi_header_cell_0_11_0']}}],\n",
       " 'id': 24435,\n",
       " 'claim': 'Michael Folivi competed with ten teams from 2016 to 2021, appearing in 54 games and making seven goals in total.',\n",
       " 'label': 'REFUTES',\n",
       " 'annotator_operations': [{'operation': 'start',\n",
       "   'value': 'start',\n",
       "   'time': '0'},\n",
       "  {'operation': 'Now on', 'value': '?search=', 'time': '0.78'},\n",
       "  {'operation': 'search', 'value': 'Michael Folivi', 'time': '78.101'},\n",
       "  {'operation': 'Now on', 'value': 'Michael Folivi', 'time': '78.822'},\n",
       "  {'operation': 'Highlighting',\n",
       "   'value': 'Michael Folivi_cell_1_2_0',\n",
       "   'time': '96.202'},\n",
       "  {'operation': 'Highlighting',\n",
       "   'value': 'Michael Folivi_cell_1_7_0',\n",
       "   'time': '96.9'},\n",
       "  {'operation': 'Highlighting',\n",
       "   'value': 'Michael Folivi_cell_1_8_0',\n",
       "   'time': '97.429'},\n",
       "  {'operation': 'Highlighting',\n",
       "   'value': 'Michael Folivi_cell_1_9_0',\n",
       "   'time': '97.994'},\n",
       "  {'operation': 'Highlighting',\n",
       "   'value': 'Michael Folivi_cell_1_12_0',\n",
       "   'time': '99.02'},\n",
       "  {'operation': 'Highlighting',\n",
       "   'value': 'Michael Folivi_cell_0_13_1',\n",
       "   'time': '106.108'},\n",
       "  {'operation': 'Highlighting',\n",
       "   'value': 'Michael Folivi_cell_0_14_1',\n",
       "   'time': '106.702'},\n",
       "  {'operation': 'Highlighting',\n",
       "   'value': 'Michael Folivi_cell_0_15_1',\n",
       "   'time': '107.423'},\n",
       "  {'operation': 'Highlighting',\n",
       "   'value': 'Michael Folivi_cell_0_16_1',\n",
       "   'time': '108.186'},\n",
       "  {'operation': 'Highlighting',\n",
       "   'value': 'Michael Folivi_cell_0_17_1',\n",
       "   'time': '108.788'},\n",
       "  {'operation': 'Highlighting',\n",
       "   'value': 'Michael Folivi_header_cell_0_17_0',\n",
       "   'time': '108.8'},\n",
       "  {'operation': 'Highlighting',\n",
       "   'value': 'Michael Folivi_cell_0_18_1',\n",
       "   'time': '109.469'},\n",
       "  {'operation': 'Highlighting deleted',\n",
       "   'value': 'Michael Folivi_cell_0_17_1',\n",
       "   'time': '124.28'},\n",
       "  {'operation': 'Highlighting deleted',\n",
       "   'value': 'Michael Folivi_header_cell_0_17_0',\n",
       "   'time': '124.293'},\n",
       "  {'operation': 'finish', 'value': 'finish', 'time': '141.351'}]}"
      ]
     },
     "execution_count": 10,
     "metadata": {},
     "output_type": "execute_result"
    }
   ],
   "source": [
    "claims[1]"
   ]
  },
  {
   "cell_type": "code",
   "execution_count": null,
   "id": "7c12fa2d",
   "metadata": {},
   "outputs": [],
   "source": []
  }
 ],
 "metadata": {
  "kernelspec": {
   "display_name": "Python 3 (ipykernel)",
   "language": "python",
   "name": "python3"
  },
  "language_info": {
   "codemirror_mode": {
    "name": "ipython",
    "version": 3
   },
   "file_extension": ".py",
   "mimetype": "text/x-python",
   "name": "python",
   "nbconvert_exporter": "python",
   "pygments_lexer": "ipython3",
   "version": "3.9.7"
  }
 },
 "nbformat": 4,
 "nbformat_minor": 5
}
