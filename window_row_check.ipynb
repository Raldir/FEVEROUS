{
 "cells": [
  {
   "cell_type": "code",
   "execution_count": 1,
   "id": "8e0d1df6",
   "metadata": {},
   "outputs": [],
   "source": [
    "from src.feverous.utils.wiki_window import *\n",
    "from src.feverous.utils.wiki_row import *"
   ]
  },
  {
   "cell_type": "code",
   "execution_count": 2,
   "id": "6745dda9",
   "metadata": {},
   "outputs": [],
   "source": [
    "from src.feverous.database.feverous_db import FeverousDB\n",
    "import numpy as np"
   ]
  },
  {
   "cell_type": "code",
   "execution_count": 3,
   "id": "eb36ec52",
   "metadata": {},
   "outputs": [],
   "source": [
    "db =  FeverousDB(\"/mnt/infonas/data/harshiitb/MTP/MTP/FEVER/FEVEROUS-main/data/feverous_wikiv1.db\")"
   ]
  },
  {
   "cell_type": "code",
   "execution_count": 12,
   "id": "7086b88a",
   "metadata": {},
   "outputs": [],
   "source": [
    "title = '\"900\", Cahiers d\\'Italie et d\\'Europe'\n",
    "page_json = db.get_doc_json(title)\n",
    "'''\n",
    "    Once we have the json, we create object of WikiPage\n",
    "        input: title T, json of wikipage under consideration\n",
    "        output: object of WikiPage\n",
    "    WikiPage provides various functionalities that can be used to read the underlying wikipage:\n",
    "        get_sentences()\n",
    "        get_context()\n",
    "        ...etc\n",
    "'''\n",
    "wiki_page = WikiPage(title, page_json)"
   ]
  },
  {
   "cell_type": "code",
   "execution_count": 13,
   "id": "2c328b79",
   "metadata": {},
   "outputs": [
    {
     "data": {
      "text/plain": [
       "['header_cell_0_0_0',\n",
       " 'cell_0_0_1',\n",
       " 'header_cell_0_1_0',\n",
       " 'cell_0_1_1',\n",
       " 'header_cell_0_2_0',\n",
       " 'cell_0_2_1',\n",
       " 'header_cell_0_3_0',\n",
       " 'cell_0_3_1',\n",
       " 'header_cell_0_4_0',\n",
       " 'cell_0_4_1',\n",
       " 'table_caption_0',\n",
       " 'sentence_0',\n",
       " 'sentence_1',\n",
       " 'section_0',\n",
       " 'sentence_2',\n",
       " 'sentence_3',\n",
       " 'sentence_4',\n",
       " 'sentence_5',\n",
       " 'sentence_6',\n",
       " 'sentence_7',\n",
       " 'sentence_8',\n",
       " 'sentence_9',\n",
       " 'sentence_10',\n",
       " 'sentence_11',\n",
       " 'section_1',\n",
       " 'item_0_0']"
      ]
     },
     "execution_count": 13,
     "metadata": {},
     "output_type": "execute_result"
    }
   ],
   "source": [
    "wiki_page.get_ids()"
   ]
  },
  {
   "cell_type": "code",
   "execution_count": 16,
   "id": "8f5e55e7",
   "metadata": {},
   "outputs": [
    {
     "data": {
      "text/plain": [
       "'Single-occupant vehicle may refer to:'"
      ]
     },
     "execution_count": 16,
     "metadata": {},
     "output_type": "execute_result"
    }
   ],
   "source": [
    "wiki_page.get_element_by_id('sentence_0').content"
   ]
  },
  {
   "cell_type": "code",
   "execution_count": 18,
   "id": "0c2bde26",
   "metadata": {},
   "outputs": [],
   "source": [
    "window_obj = wiki_window(wiki_page)"
   ]
  },
  {
   "cell_type": "code",
   "execution_count": 19,
   "id": "e53cde0d",
   "metadata": {},
   "outputs": [
    {
     "data": {
      "text/plain": [
       "{'\"900\", Cahiers d\\'Italie et d\\'Europe|window_intro_0': ['sentence_0'],\n",
       " '\"900\", Cahiers d\\'Italie et d\\'Europe|window_intro_1': ['sentence_1'],\n",
       " '\"900\", Cahiers d\\'Italie et d\\'Europe|window_section_0_0': ['sentence_2'],\n",
       " '\"900\", Cahiers d\\'Italie et d\\'Europe|window_section_0_1': ['sentence_3'],\n",
       " '\"900\", Cahiers d\\'Italie et d\\'Europe|window_section_0_2': ['sentence_4'],\n",
       " '\"900\", Cahiers d\\'Italie et d\\'Europe|window_section_0_3': ['sentence_5'],\n",
       " '\"900\", Cahiers d\\'Italie et d\\'Europe|window_section_0_4': ['sentence_6'],\n",
       " '\"900\", Cahiers d\\'Italie et d\\'Europe|window_section_0_5': ['sentence_7'],\n",
       " '\"900\", Cahiers d\\'Italie et d\\'Europe|window_section_0_6': ['sentence_8'],\n",
       " '\"900\", Cahiers d\\'Italie et d\\'Europe|window_section_0_7': ['sentence_9'],\n",
       " '\"900\", Cahiers d\\'Italie et d\\'Europe|window_section_0_8': ['sentence_10'],\n",
       " '\"900\", Cahiers d\\'Italie et d\\'Europe|window_section_0_9': ['sentence_11']}"
      ]
     },
     "execution_count": 19,
     "metadata": {},
     "output_type": "execute_result"
    }
   ],
   "source": [
    "window_obj.get_windows()"
   ]
  },
  {
   "cell_type": "code",
   "execution_count": 21,
   "id": "dac3809f",
   "metadata": {},
   "outputs": [
    {
     "data": {
      "text/plain": [
       "'\"900\", Cahiers d\\'Italie et d\\'Europe History The first four preambles, Giustification, Basis, Advices, Analogies were published in \"French\" in the journals of autumn 1926, March and June 1927.'"
      ]
     },
     "execution_count": 21,
     "metadata": {},
     "output_type": "execute_result"
    }
   ],
   "source": [
    "window_obj.get_window_content_and_context('\"900\", Cahiers d\\'Italie et d\\'Europe|window_section_0_4')"
   ]
  },
  {
   "cell_type": "code",
   "execution_count": null,
   "id": "3aba0e64",
   "metadata": {},
   "outputs": [],
   "source": [
    "row_obj = wiki_row(wiki_page)"
   ]
  },
  {
   "cell_type": "code",
   "execution_count": null,
   "id": "73a4840d",
   "metadata": {},
   "outputs": [],
   "source": [
    "row_obj.get_all_rows()"
   ]
  },
  {
   "cell_type": "code",
   "execution_count": null,
   "id": "4f1ae16c",
   "metadata": {},
   "outputs": [],
   "source": [
    "row_obj.get_row_content_and_context('Michael Folivi|table_1_ 3')"
   ]
  },
  {
   "cell_type": "code",
   "execution_count": null,
   "id": "269b8480",
   "metadata": {},
   "outputs": [],
   "source": [
    "#Let's try ELQ"
   ]
  },
  {
   "cell_type": "code",
   "execution_count": null,
   "id": "5fa03931",
   "metadata": {},
   "outputs": [],
   "source": []
  },
  {
   "cell_type": "code",
   "execution_count": null,
   "id": "6c27047b",
   "metadata": {
    "scrolled": true
   },
   "outputs": [],
   "source": [
    "row_graph = row_obj.get_row_graph('! (Cláudia Pascoal album)|table_2_ 1')"
   ]
  },
  {
   "cell_type": "code",
   "execution_count": null,
   "id": "2a4c110f",
   "metadata": {},
   "outputs": [],
   "source": [
    "row_graph[0]"
   ]
  },
  {
   "cell_type": "code",
   "execution_count": null,
   "id": "e295deb1",
   "metadata": {},
   "outputs": [],
   "source": [
    "import networkx as nx\n",
    "import matplotlib.pyplot as plt\n"
   ]
  },
  {
   "cell_type": "code",
   "execution_count": null,
   "id": "38905779",
   "metadata": {},
   "outputs": [],
   "source": [
    "G = nx.Graph()"
   ]
  },
  {
   "cell_type": "code",
   "execution_count": null,
   "id": "0c7ce567",
   "metadata": {},
   "outputs": [],
   "source": [
    "for node,content in row_graph[0].items():\n",
    "    G.add_node(node)\n",
    "    G.nodes[node]['content'] = content"
   ]
  },
  {
   "cell_type": "code",
   "execution_count": null,
   "id": "e90c196e",
   "metadata": {},
   "outputs": [],
   "source": [
    "for edge in row_graph[1]:\n",
    "    G.add_edge(edge[0], edge[1])"
   ]
  },
  {
   "cell_type": "code",
   "execution_count": null,
   "id": "5a8226fd",
   "metadata": {},
   "outputs": [],
   "source": [
    "nx.draw(G , with_labels = True)\n",
    "plt.savefig(\"row.png\")\n",
    "plt.show()"
   ]
  },
  {
   "cell_type": "code",
   "execution_count": null,
   "id": "48e02172",
   "metadata": {},
   "outputs": [],
   "source": [
    "plt.savefig(\"row.png\")"
   ]
  },
  {
   "cell_type": "code",
   "execution_count": null,
   "id": "c6edb8d3",
   "metadata": {},
   "outputs": [],
   "source": []
  }
 ],
 "metadata": {
  "kernelspec": {
   "display_name": "Python 3 (ipykernel)",
   "language": "python",
   "name": "python3"
  },
  "language_info": {
   "codemirror_mode": {
    "name": "ipython",
    "version": 3
   },
   "file_extension": ".py",
   "mimetype": "text/x-python",
   "name": "python",
   "nbconvert_exporter": "python",
   "pygments_lexer": "ipython3",
   "version": "3.9.7"
  }
 },
 "nbformat": 4,
 "nbformat_minor": 5
}
