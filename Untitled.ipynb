{
 "cells": [
  {
   "cell_type": "code",
   "execution_count": 1,
   "id": "8e0d1df6",
   "metadata": {},
   "outputs": [],
   "source": [
    "from src.feverous.utils.wiki_window import *\n",
    "from src.feverous.utils.wiki_row import *"
   ]
  },
  {
   "cell_type": "code",
   "execution_count": 2,
   "id": "6745dda9",
   "metadata": {},
   "outputs": [],
   "source": [
    "from src.feverous.database.feverous_db import FeverousDB\n",
    "import numpy as np"
   ]
  },
  {
   "cell_type": "code",
   "execution_count": 3,
   "id": "6fdf0eef",
   "metadata": {},
   "outputs": [],
   "source": [
    "db =  FeverousDB(\"/mnt/infonas/data/harshiitb/MTP/MTP/FEVER/FEVEROUS-main/data/feverous_wikiv1.db\")"
   ]
  },
  {
   "cell_type": "code",
   "execution_count": 4,
   "id": "840a182f",
   "metadata": {},
   "outputs": [],
   "source": [
    "title = '! (Cláudia Pascoal album)'\n",
    "page_json = db.get_doc_json(title)\n",
    "'''\n",
    "    Once we have the json, we create object of WikiPage\n",
    "        input: title T, json of wikipage under consideration\n",
    "        output: object of WikiPage\n",
    "    WikiPage provides various functionalities that can be used to read the underlying wikipage:\n",
    "        get_sentences()\n",
    "        get_context()\n",
    "        ...etc\n",
    "'''\n",
    "wiki_page = WikiPage(title, page_json)"
   ]
  },
  {
   "cell_type": "code",
   "execution_count": 5,
   "id": "6bf75cb3",
   "metadata": {},
   "outputs": [],
   "source": [
    "window_obj = wiki_window(wiki_page)"
   ]
  },
  {
   "cell_type": "code",
   "execution_count": 6,
   "id": "a1175365",
   "metadata": {},
   "outputs": [
    {
     "data": {
      "text/plain": [
       "{'! (Cláudia Pascoal album)|window_intro_0': ['sentence_0',\n",
       "  'sentence_1',\n",
       "  'sentence_2',\n",
       "  'sentence_3']}"
      ]
     },
     "execution_count": 6,
     "metadata": {},
     "output_type": "execute_result"
    }
   ],
   "source": [
    "window_obj.get_all_windows()"
   ]
  },
  {
   "cell_type": "code",
   "execution_count": 7,
   "id": "4a40dfc3",
   "metadata": {},
   "outputs": [
    {
     "data": {
      "text/plain": [
       "'! (Cláudia Pascoal album) ! (pronounced \"\") is the debut [[Studio_album|studio album]] by Portuguese singer [[Cláudia_Pascoal|Cláudia Pascoal]]. It was released in Portugal on 27 March 2020 by Universal Music Portugal. The album peaked at number six on the [[Associação_Fonográfica_Portuguesa|Portuguese Albums Chart]].'"
      ]
     },
     "execution_count": 7,
     "metadata": {},
     "output_type": "execute_result"
    }
   ],
   "source": [
    "window_obj.get_window_content_and_context('! (Cláudia Pascoal album)|window_intro_0')"
   ]
  },
  {
   "cell_type": "code",
   "execution_count": 8,
   "id": "21855da9",
   "metadata": {},
   "outputs": [],
   "source": [
    "row_obj = wiki_row(wiki_page)"
   ]
  },
  {
   "cell_type": "code",
   "execution_count": 9,
   "id": "1a229b9d",
   "metadata": {},
   "outputs": [
    {
     "data": {
      "text/plain": [
       "{'! (Cláudia Pascoal album)|table_0_ 0': ['header_cell_0_0_0',\n",
       "  'header_cell_0_0_0'],\n",
       " '! (Cláudia Pascoal album)|table_0_ 1': ['header_cell_0_1_0',\n",
       "  'header_cell_0_1_0'],\n",
       " '! (Cláudia Pascoal album)|table_0_ 2': ['header_cell_0_2_0', 'cell_0_2_1'],\n",
       " '! (Cláudia Pascoal album)|table_0_ 3': ['header_cell_0_3_0', 'cell_0_3_1'],\n",
       " '! (Cláudia Pascoal album)|table_0_ 4': ['header_cell_0_4_0', 'cell_0_4_1'],\n",
       " '! (Cláudia Pascoal album)|table_0_ 5': ['header_cell_0_5_0',\n",
       "  'header_cell_0_5_0'],\n",
       " '! (Cláudia Pascoal album)|table_1_ 0': ['header_cell_1_0_0',\n",
       "  'header_cell_1_0_1'],\n",
       " '! (Cláudia Pascoal album)|table_1_ 1': ['header_cell_1_1_0', 'cell_1_1_1'],\n",
       " '! (Cláudia Pascoal album)|table_2_ 0': ['header_cell_2_0_0',\n",
       "  'header_cell_2_0_1',\n",
       "  'header_cell_2_0_2',\n",
       "  'header_cell_2_0_3'],\n",
       " '! (Cláudia Pascoal album)|table_2_ 1': ['header_cell_2_1_0',\n",
       "  'cell_2_1_1',\n",
       "  'cell_2_1_2',\n",
       "  'cell_2_1_3']}"
      ]
     },
     "execution_count": 9,
     "metadata": {},
     "output_type": "execute_result"
    }
   ],
   "source": [
    "row_obj.get_all_rows()"
   ]
  },
  {
   "cell_type": "code",
   "execution_count": 10,
   "id": "bd2487b9",
   "metadata": {},
   "outputs": [
    {
     "name": "stdout",
     "output_type": "stream",
     "text": [
      "['header_cell_2_1_0', 'cell_2_1_1', 'cell_2_1_2', 'cell_2_1_3']\n",
      "header_cell_2_1_0\n",
      "cell_2_1_1\n",
      "cell_2_1_2\n",
      "cell_2_1_3\n"
     ]
    },
    {
     "data": {
      "text/plain": [
       "'! (Cláudia Pascoal album) Release history Region Portugal Date 27 March 2020 Format  Label Universal Music Portugal'"
      ]
     },
     "execution_count": 10,
     "metadata": {},
     "output_type": "execute_result"
    }
   ],
   "source": [
    "row_obj.get_row_content_and_context('! (Cláudia Pascoal album)|table_2_ 1')"
   ]
  },
  {
   "cell_type": "code",
   "execution_count": 11,
   "id": "3c30d177",
   "metadata": {
    "scrolled": true
   },
   "outputs": [],
   "source": [
    "row_graph = row_obj.get_row_graph('! (Cláudia Pascoal album)|table_2_ 1')"
   ]
  },
  {
   "cell_type": "code",
   "execution_count": 12,
   "id": "247123d6",
   "metadata": {},
   "outputs": [
    {
     "data": {
      "text/plain": [
       "{'! (Cláudia Pascoal album)|header_cell_2_1_0': 'Portugal',\n",
       " '! (Cláudia Pascoal album)|header_cell_2_0_0': 'Region',\n",
       " '! (Cláudia Pascoal album)|cell_2_1_1': '27 March 2020',\n",
       " '! (Cláudia Pascoal album)|header_cell_2_0_1': 'Date',\n",
       " '! (Cláudia Pascoal album)|cell_2_1_2': '',\n",
       " '! (Cláudia Pascoal album)|header_cell_2_0_2': 'Format',\n",
       " '! (Cláudia Pascoal album)|cell_2_1_3': 'Universal Music Portugal',\n",
       " '! (Cláudia Pascoal album)|header_cell_2_0_3': 'Label',\n",
       " '! (Cláudia Pascoal album)|! (Cláudia Pascoal album)|table_2_ 1': ''}"
      ]
     },
     "execution_count": 12,
     "metadata": {},
     "output_type": "execute_result"
    }
   ],
   "source": [
    "row_graph[0]"
   ]
  },
  {
   "cell_type": "code",
   "execution_count": 13,
   "id": "93558a47",
   "metadata": {},
   "outputs": [],
   "source": [
    "import networkx as nx\n",
    "import matplotlib.pyplot as plt\n"
   ]
  },
  {
   "cell_type": "code",
   "execution_count": 14,
   "id": "1f022f0f",
   "metadata": {},
   "outputs": [],
   "source": [
    "G = nx.Graph()"
   ]
  },
  {
   "cell_type": "code",
   "execution_count": 15,
   "id": "c1f98adc",
   "metadata": {},
   "outputs": [],
   "source": [
    "for node,content in row_graph[0].items():\n",
    "    G.add_node(node)\n",
    "    G.nodes[node]['content'] = content"
   ]
  },
  {
   "cell_type": "code",
   "execution_count": 17,
   "id": "f886bfb7",
   "metadata": {},
   "outputs": [],
   "source": [
    "for edge in row_graph[1]:\n",
    "    G.add_edge(edge[0], edge[1])"
   ]
  },
  {
   "cell_type": "code",
   "execution_count": 18,
   "id": "1a3fea5c",
   "metadata": {},
   "outputs": [
    {
     "data": {
      "image/png": "[encoded data removed]",
      "text/plain": [
       "<Figure size 432x288 with 1 Axes>"
      ]
     },
     "metadata": {},
     "output_type": "display_data"
    }
   ],
   "source": [
    "nx.draw(G , with_labels = True)\n",
    "plt.show()"
   ]
  },
  {
   "cell_type": "code",
   "execution_count": 26,
   "id": "1d10107a",
   "metadata": {},
   "outputs": [
    {
     "data": {
      "text/plain": [
       "<Figure size 432x288 with 0 Axes>"
      ]
     },
     "metadata": {},
     "output_type": "display_data"
    }
   ],
   "source": [
    "plt.savefig(\"filename4.png\")"
   ]
  },
  {
   "cell_type": "code",
   "execution_count": null,
   "id": "6154afc4",
   "metadata": {},
   "outputs": [],
   "source": [
    " "
   ]
  }
 ],
 "metadata": {
  "kernelspec": {
   "display_name": "Python 3 (ipykernel)",
   "language": "python",
   "name": "python3"
  },
  "language_info": {
   "codemirror_mode": {
    "name": "ipython",
    "version": 3
   },
   "file_extension": ".py",
   "mimetype": "text/x-python",
   "name": "python",
   "nbconvert_exporter": "python",
   "pygments_lexer": "ipython3",
   "version": "3.9.7"
  }
 },
 "nbformat": 4,
 "nbformat_minor": 5
}
