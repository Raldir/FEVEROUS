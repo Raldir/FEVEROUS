{
 "cells": [
  {
   "cell_type": "code",
   "execution_count": 1,
   "id": "f6757656",
   "metadata": {},
   "outputs": [],
   "source": [
    "import numpy as np"
   ]
  },
  {
   "cell_type": "code",
   "execution_count": 13,
   "id": "ee6a3010",
   "metadata": {},
   "outputs": [],
   "source": [
    "index1 = np.load(\"/mnt/infonas/data/harshiitb/MTP/MTP/data/idxv1.pkl\",allow_pickle=True)\n",
    "index2 = np.load(\"/mnt/infonas/data/harshiitb/MTP/MTP/data/idxv2.pkl\",allow_pickle=True)\n",
    "index3 = np.load(\"/mnt/infonas/data/harshiitb/MTP/MTP/data/worker1_0.pkl\",allow_pickle=True)\n",
    "index4 = np.load(\"/mnt/infonas/data/harshiitb/MTP/MTP/data/worker1_1.pkl\",allow_pickle=True)"
   ]
  },
  {
   "cell_type": "code",
   "execution_count": null,
   "id": "030e1ecd",
   "metadata": {
    "scrolled": true
   },
   "outputs": [],
   "source": [
    "index1 = index1\n",
    "index2 = index2"
   ]
  },
  {
   "cell_type": "code",
   "execution_count": 3,
   "id": "fc575ca9",
   "metadata": {
    "scrolled": true
   },
   "outputs": [],
   "source": [
    "common = list(set(index1.keys()).intersection(set(index2.keys())))"
   ]
  },
  {
   "cell_type": "code",
   "execution_count": 8,
   "id": "9f0df282",
   "metadata": {},
   "outputs": [
    {
     "data": {
      "text/plain": [
       "16659"
      ]
     },
     "execution_count": 8,
     "metadata": {},
     "output_type": "execute_result"
    }
   ],
   "source": [
    "len(index3)"
   ]
  },
  {
   "cell_type": "code",
   "execution_count": 16,
   "id": "c608ad39",
   "metadata": {},
   "outputs": [
    {
     "data": {
      "text/plain": [
       "13879"
      ]
     },
     "execution_count": 16,
     "metadata": {},
     "output_type": "execute_result"
    }
   ],
   "source": [
    "len(index4)"
   ]
  },
  {
   "cell_type": "code",
   "execution_count": 9,
   "id": "885ffa71",
   "metadata": {},
   "outputs": [
    {
     "data": {
      "text/plain": [
       "16659"
      ]
     },
     "execution_count": 9,
     "metadata": {},
     "output_type": "execute_result"
    }
   ],
   "source": [
    "len(set(index2.keys()).intersection(set(index3.keys())))"
   ]
  },
  {
   "cell_type": "code",
   "execution_count": 4,
   "id": "86954adc",
   "metadata": {},
   "outputs": [
    {
     "data": {
      "text/plain": [
       "16644"
      ]
     },
     "execution_count": 4,
     "metadata": {},
     "output_type": "execute_result"
    }
   ],
   "source": [
    "len(common)"
   ]
  },
  {
   "cell_type": "code",
   "execution_count": 5,
   "id": "62dd770f",
   "metadata": {},
   "outputs": [
    {
     "name": "stdout",
     "output_type": "stream",
     "text": [
      "16658 16659\n"
     ]
    }
   ],
   "source": [
    "print(len(index1),len(index2))"
   ]
  },
  {
   "cell_type": "code",
   "execution_count": 6,
   "id": "0ee3dce5",
   "metadata": {},
   "outputs": [
    {
     "name": "stdout",
     "output_type": "stream",
     "text": [
      "17\n"
     ]
    }
   ],
   "source": [
    "count = 0\n",
    "v1 = 0\n",
    "v2 = 0\n",
    "for ent in common:\n",
    "    list1 = set(index1[ent])\n",
    "    list2 = set(index2[ent])\n",
    "    v1 += len(list1)\n",
    "    v2 += len(list2)\n",
    "    inter = list1.intersection(list2)\n",
    "    count += abs(len(inter)-max(len(list1),len(list2)))\n",
    "print(count)"
   ]
  },
  {
   "cell_type": "code",
   "execution_count": 11,
   "id": "2b1363fb",
   "metadata": {},
   "outputs": [
    {
     "name": "stdout",
     "output_type": "stream",
     "text": [
      "0\n"
     ]
    }
   ],
   "source": [
    "count = 0\n",
    "v2 = 0\n",
    "v3 = 0\n",
    "for ent in common:\n",
    "    list3 = set(index3[ent])\n",
    "    list2 = set(index2[ent])\n",
    "    v3 += len(list3)\n",
    "    v2 += len(list2)\n",
    "    inter = list3.intersection(list2)\n",
    "    count += abs(len(inter)-max(len(list3),len(list2)))\n",
    "print(count)"
   ]
  },
  {
   "cell_type": "code",
   "execution_count": 12,
   "id": "45e47b53",
   "metadata": {},
   "outputs": [
    {
     "name": "stdout",
     "output_type": "stream",
     "text": [
      "68294 68294\n"
     ]
    }
   ],
   "source": [
    "print(v3,v2)"
   ]
  },
  {
   "cell_type": "code",
   "execution_count": null,
   "id": "b5b0132b",
   "metadata": {
    "scrolled": true
   },
   "outputs": [],
   "source": [
    "index1['Human Rights Campaign']"
   ]
  },
  {
   "cell_type": "code",
   "execution_count": null,
   "id": "1bad7f1d",
   "metadata": {},
   "outputs": [],
   "source": [
    "index2['Foundation (evidence)']"
   ]
  },
  {
   "cell_type": "code",
   "execution_count": null,
   "id": "8fd8e6f6",
   "metadata": {},
   "outputs": [],
   "source": [
    "index.keys()"
   ]
  },
  {
   "cell_type": "code",
   "execution_count": null,
   "id": "cc1eb286",
   "metadata": {},
   "outputs": [],
   "source": [
    "index['Dot-com company']"
   ]
  },
  {
   "cell_type": "code",
   "execution_count": null,
   "id": "f0d967d7",
   "metadata": {},
   "outputs": [],
   "source": [
    "index_fast = np.load(\"/mnt/infonas/data/harshiitb/MTP/MTP/data/idx_fast.pkl\",allow_pickle=True)"
   ]
  },
  {
   "cell_type": "code",
   "execution_count": null,
   "id": "ac8916d5",
   "metadata": {},
   "outputs": [],
   "source": [
    "index_fast.keys()"
   ]
  },
  {
   "cell_type": "code",
   "execution_count": null,
   "id": "aed885a2",
   "metadata": {},
   "outputs": [],
   "source": [
    "index_fast['Pepco Holdings']"
   ]
  },
  {
   "cell_type": "code",
   "execution_count": null,
   "id": "2e7f957c",
   "metadata": {},
   "outputs": [],
   "source": [
    "len(index_fast)"
   ]
  },
  {
   "cell_type": "code",
   "execution_count": null,
   "id": "5fb49a62",
   "metadata": {},
   "outputs": [],
   "source": [
    "len(index)"
   ]
  },
  {
   "cell_type": "code",
   "execution_count": 15,
   "id": "b8577c6d",
   "metadata": {},
   "outputs": [
    {
     "ename": "KeyError",
     "evalue": "'Dot-com company'",
     "output_type": "error",
     "traceback": [
      "\u001b[0;31m---------------------------------------------------------------------------\u001b[0m",
      "\u001b[0;31mKeyError\u001b[0m                                  Traceback (most recent call last)",
      "\u001b[0;32m/tmp/ipykernel_2682760/1029106117.py\u001b[0m in \u001b[0;36m<module>\u001b[0;34m\u001b[0m\n\u001b[0;32m----> 1\u001b[0;31m \u001b[0mindex4\u001b[0m\u001b[0;34m[\u001b[0m\u001b[0;34m'Dot-com company'\u001b[0m\u001b[0;34m]\u001b[0m\u001b[0;34m\u001b[0m\u001b[0;34m\u001b[0m\u001b[0m\n\u001b[0m",
      "\u001b[0;31mKeyError\u001b[0m: 'Dot-com company'"
     ]
    }
   ],
   "source": [
    "index4['Dot-com company']"
   ]
  },
  {
   "cell_type": "code",
   "execution_count": null,
   "id": "3289bf9b",
   "metadata": {},
   "outputs": [],
   "source": []
  }
 ],
 "metadata": {
  "kernelspec": {
   "display_name": "Python 3 (ipykernel)",
   "language": "python",
   "name": "python3"
  },
  "language_info": {
   "codemirror_mode": {
    "name": "ipython",
    "version": 3
   },
   "file_extension": ".py",
   "mimetype": "text/x-python",
   "name": "python",
   "nbconvert_exporter": "python",
   "pygments_lexer": "ipython3",
   "version": "3.9.7"
  }
 },
 "nbformat": 4,
 "nbformat_minor": 5
}
