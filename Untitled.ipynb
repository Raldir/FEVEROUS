{
 "cells": [
  {
   "cell_type": "code",
   "execution_count": 1,
   "id": "0ecf7321",
   "metadata": {},
   "outputs": [],
   "source": [
    "import sqlite3\n",
    "import json"
   ]
  },
  {
   "cell_type": "code",
   "execution_count": 2,
   "id": "5a4830aa",
   "metadata": {},
   "outputs": [],
   "source": [
    "import numpy as np\n",
    "import pickle"
   ]
  },
  {
   "cell_type": "code",
   "execution_count": 6,
   "id": "c2092e2a",
   "metadata": {},
   "outputs": [],
   "source": [
    "con = sqlite3.connect(\"/mnt/infonas/data/harshiitb/MTP/MTP/FEVER/FEVEROUS-main/data/feverous_wikiv1.db\")"
   ]
  },
  {
   "cell_type": "code",
   "execution_count": 7,
   "id": "fcb507d9",
   "metadata": {},
   "outputs": [
    {
     "data": {
      "text/plain": [
       "<sqlite3.Cursor at 0x7f8a312e5ea0>"
      ]
     },
     "execution_count": 7,
     "metadata": {},
     "output_type": "execute_result"
    }
   ],
   "source": [
    "cur = con.cursor()\n",
    "cur.execute(\"SELECT id FROM wiki;\")"
   ]
  },
  {
   "cell_type": "code",
   "execution_count": 8,
   "id": "413f2f1b",
   "metadata": {},
   "outputs": [
    {
     "data": {
      "text/plain": [
       "<sqlite3.Cursor at 0x7f8a312e5ea0>"
      ]
     },
     "execution_count": 8,
     "metadata": {},
     "output_type": "execute_result"
    }
   ],
   "source": [
    "cur.execute(\"SELECT id FROM wiki;\")"
   ]
  },
  {
   "cell_type": "code",
   "execution_count": 9,
   "id": "3adbab2c",
   "metadata": {},
   "outputs": [],
   "source": [
    "titles = cur.fetchall()"
   ]
  },
  {
   "cell_type": "code",
   "execution_count": 10,
   "id": "ef4f004b",
   "metadata": {},
   "outputs": [],
   "source": [
    "titles = np.asarray(titles)"
   ]
  },
  {
   "cell_type": "code",
   "execution_count": 11,
   "id": "d02c9b11",
   "metadata": {},
   "outputs": [
    {
     "data": {
      "text/plain": [
       "array([[''],\n",
       "       ['! (Cláudia Pascoal album)'],\n",
       "       ['! (The Dismemberment Plan album)'],\n",
       "       ...,\n",
       "       ['𓈖'],\n",
       "       ['𝔹'],\n",
       "       ['𝕊']], dtype='<U186')"
      ]
     },
     "execution_count": 11,
     "metadata": {},
     "output_type": "execute_result"
    }
   ],
   "source": [
    "titles"
   ]
  },
  {
   "cell_type": "code",
   "execution_count": 12,
   "id": "a0b8f1a6",
   "metadata": {},
   "outputs": [],
   "source": [
    "data = titles.squeeze()"
   ]
  },
  {
   "cell_type": "code",
   "execution_count": 14,
   "id": "dfac71c7",
   "metadata": {},
   "outputs": [
    {
     "data": {
      "text/plain": [
       "'𝕊'"
      ]
     },
     "execution_count": 14,
     "metadata": {},
     "output_type": "execute_result"
    }
   ],
   "source": [
    "data[-1]"
   ]
  },
  {
   "cell_type": "code",
   "execution_count": null,
   "id": "c4c3283e",
   "metadata": {},
   "outputs": [],
   "source": []
  }
 ],
 "metadata": {
  "kernelspec": {
   "display_name": "Python 3 (ipykernel)",
   "language": "python",
   "name": "python3"
  },
  "language_info": {
   "codemirror_mode": {
    "name": "ipython",
    "version": 3
   },
   "file_extension": ".py",
   "mimetype": "text/x-python",
   "name": "python",
   "nbconvert_exporter": "python",
   "pygments_lexer": "ipython3",
   "version": "3.9.7"
  }
 },
 "nbformat": 4,
 "nbformat_minor": 5
}
